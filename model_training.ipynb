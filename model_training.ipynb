{
 "cells": [
  {
   "cell_type": "code",
   "execution_count": 1,
   "metadata": {},
   "outputs": [],
   "source": [
    "from model.loader import data_loader\n",
    "from model.model import train, test"
   ]
  },
  {
   "cell_type": "code",
   "execution_count": 2,
   "metadata": {
    "vscode": {
     "languageId": "ruby"
    }
   },
   "outputs": [],
   "source": [
    "test_loaders = [\n",
    "    # data_loader[\"mnist\"][\"test\"],\n",
    "    # data_loader[\"hoda\"][\"test\"], \n",
    "    data_loader[\"printed_digit\"][\"test\"], \n",
    "    # data_loader[\"farsi_printed_digit\"][\"test\"], \n",
    "]\n",
    "train_loaders = [\n",
    "    # data_loader[\"mnist\"][\"train\"],\n",
    "    # data_loader[\"hoda\"][\"train\"], \n",
    "    data_loader[\"printed_digit\"][\"train\"], \n",
    "    # data_loader[\"farsi_printed_digit\"][\"train\"], \n",
    "]"
   ]
  },
  {
   "cell_type": "code",
   "execution_count": 3,
   "metadata": {},
   "outputs": [],
   "source": [
    "model_path = \"model/digit_model.pth\""
   ]
  },
  {
   "cell_type": "code",
   "execution_count": 6,
   "metadata": {},
   "outputs": [
    {
     "name": "stdout",
     "output_type": "stream",
     "text": [
      "Device: cuda:0\n",
      "Accuracy of the network on the 10000 test images: 97 %\n"
     ]
    }
   ],
   "source": [
    "test(model_path, test_loaders)"
   ]
  },
  {
   "cell_type": "code",
   "execution_count": 5,
   "metadata": {},
   "outputs": [
    {
     "name": "stdout",
     "output_type": "stream",
     "text": [
      "Device: cuda:0\n",
      "Epoch 1/5, Loss: 0.05357199279889443\n",
      "Epoch 2/5, Loss: 0.04909939980785808\n",
      "Epoch 3/5, Loss: 0.04286513273474837\n",
      "Epoch 4/5, Loss: 0.038773289559506915\n",
      "Epoch 5/5, Loss: 0.03697635919858371\n",
      "Model trained and saved as digit_model.pth\n"
     ]
    }
   ],
   "source": [
    "train(model_path, train_loaders, 5)"
   ]
  }
 ],
 "metadata": {
  "kernelspec": {
   "display_name": "base",
   "language": "python",
   "name": "python3"
  },
  "language_info": {
   "codemirror_mode": {
    "name": "ipython",
    "version": 3
   },
   "file_extension": ".py",
   "mimetype": "text/x-python",
   "name": "python",
   "nbconvert_exporter": "python",
   "pygments_lexer": "ipython3",
   "version": "3.12.3"
  }
 },
 "nbformat": 4,
 "nbformat_minor": 2
}
