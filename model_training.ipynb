{
 "cells": [
  {
   "cell_type": "code",
   "execution_count": 1,
   "metadata": {},
   "outputs": [],
   "source": [
    "from model.loader import data_loader\n",
    "from model.model import train, test"
   ]
  },
  {
   "cell_type": "code",
   "execution_count": 2,
   "metadata": {
    "vscode": {
     "languageId": "ruby"
    }
   },
   "outputs": [],
   "source": [
    "test_loaders = [\n",
    "    # data_loader[\"mnist\"][\"test\"],\n",
    "    # data_loader[\"hoda\"][\"test\"], \n",
    "    data_loader[\"printed_digit\"][\"test\"], \n",
    "    data_loader[\"farsi_printed_digit\"][\"test\"], \n",
    "]\n",
    "train_loaders = [\n",
    "    # data_loader[\"mnist\"][\"train\"],\n",
    "    # data_loader[\"hoda\"][\"train\"], \n",
    "    data_loader[\"printed_digit\"][\"train\"], \n",
    "    data_loader[\"farsi_printed_digit\"][\"train\"], \n",
    "]"
   ]
  },
  {
   "cell_type": "code",
   "execution_count": 3,
   "metadata": {},
   "outputs": [],
   "source": [
    "model_path = \"model/digit_model.pth\""
   ]
  },
  {
   "cell_type": "code",
   "execution_count": 4,
   "metadata": {},
   "outputs": [
    {
     "name": "stdout",
     "output_type": "stream",
     "text": [
      "Device: cuda:0\n",
      "Accuracy of the network on the 10000 test images: 92 %\n"
     ]
    }
   ],
   "source": [
    "test(model_path, test_loaders)"
   ]
  },
  {
   "cell_type": "code",
   "execution_count": 16,
   "metadata": {},
   "outputs": [
    {
     "name": "stdout",
     "output_type": "stream",
     "text": [
      "Device: cuda:0\n",
      "Epoch 1/10, Loss: 0.06856302199769969\n",
      "Epoch 1/10, Loss: 0.3673587586120542\n",
      "Epoch 2/10, Loss: 0.05408896280298954\n",
      "Epoch 2/10, Loss: 0.33517486371244465\n",
      "Epoch 3/10, Loss: 0.06334737834255753\n",
      "Epoch 3/10, Loss: 0.3006274123532609\n",
      "Epoch 4/10, Loss: 0.06663268656167823\n",
      "Epoch 4/10, Loss: 0.30314805624797814\n",
      "Epoch 5/10, Loss: 0.058534244538394155\n",
      "Epoch 5/10, Loss: 0.27754026355727673\n",
      "Epoch 6/10, Loss: 0.04291559396897305\n",
      "Epoch 6/10, Loss: 0.2799684834104043\n",
      "Epoch 7/10, Loss: 0.05624684341347295\n",
      "Epoch 7/10, Loss: 0.28517167371143454\n",
      "Epoch 8/10, Loss: 0.06156020362013129\n",
      "Epoch 8/10, Loss: 0.2226729244766516\n",
      "Epoch 9/10, Loss: 0.05411933602485271\n",
      "Epoch 9/10, Loss: 0.2453992045811274\n",
      "Epoch 10/10, Loss: 0.04916784419386518\n",
      "Epoch 10/10, Loss: 0.18377813557514133\n",
      "Model trained and saved as digit_model.pth\n"
     ]
    }
   ],
   "source": [
    "train(model_path, train_loaders, 0)"
   ]
  }
 ],
 "metadata": {
  "kernelspec": {
   "display_name": "base",
   "language": "python",
   "name": "python3"
  },
  "language_info": {
   "codemirror_mode": {
    "name": "ipython",
    "version": 3
   },
   "file_extension": ".py",
   "mimetype": "text/x-python",
   "name": "python",
   "nbconvert_exporter": "python",
   "pygments_lexer": "ipython3",
   "version": "3.12.3"
  }
 },
 "nbformat": 4,
 "nbformat_minor": 2
}
